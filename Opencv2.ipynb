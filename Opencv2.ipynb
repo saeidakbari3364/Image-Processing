{
 "cells": [
  {
   "cell_type": "markdown",
   "id": "e3988570",
   "metadata": {},
   "source": [
    "# Image Representation"
   ]
  },
  {
   "cell_type": "code",
   "execution_count": 35,
   "id": "08373729",
   "metadata": {},
   "outputs": [],
   "source": [
    "import cv2\n",
    "import numpy as np"
   ]
  },
  {
   "cell_type": "code",
   "execution_count": 36,
   "id": "6860dd5e",
   "metadata": {},
   "outputs": [],
   "source": [
    "img=cv2.imread('lenna.png')"
   ]
  },
  {
   "cell_type": "code",
   "execution_count": 37,
   "id": "6b31f639",
   "metadata": {},
   "outputs": [
    {
     "name": "stdout",
     "output_type": "stream",
     "text": [
      "[[[125 137 226]\n",
      "  [125 137 226]\n",
      "  [133 137 223]\n",
      "  ...\n",
      "  [122 148 230]\n",
      "  [110 130 221]\n",
      "  [ 90  99 200]]\n",
      "\n",
      " [[125 137 226]\n",
      "  [125 137 226]\n",
      "  [133 137 223]\n",
      "  ...\n",
      "  [122 148 230]\n",
      "  [110 130 221]\n",
      "  [ 90  99 200]]\n",
      "\n",
      " [[125 137 226]\n",
      "  [125 137 226]\n",
      "  [133 137 223]\n",
      "  ...\n",
      "  [122 148 230]\n",
      "  [110 130 221]\n",
      "  [ 90  99 200]]\n",
      "\n",
      " ...\n",
      "\n",
      " [[ 60  18  84]\n",
      "  [ 60  18  84]\n",
      "  [ 58  27  92]\n",
      "  ...\n",
      "  [ 84  73 173]\n",
      "  [ 76  68 172]\n",
      "  [ 79  62 177]]\n",
      "\n",
      " [[ 57  22  82]\n",
      "  [ 57  22  82]\n",
      "  [ 62  32  96]\n",
      "  ...\n",
      "  [ 79  70 179]\n",
      "  [ 81  71 181]\n",
      "  [ 81  74 185]]\n",
      "\n",
      " [[ 57  22  82]\n",
      "  [ 57  22  82]\n",
      "  [ 62  32  96]\n",
      "  ...\n",
      "  [ 79  70 179]\n",
      "  [ 81  71 181]\n",
      "  [ 81  74 185]]]\n"
     ]
    }
   ],
   "source": [
    "print(img)"
   ]
  },
  {
   "cell_type": "code",
   "execution_count": 38,
   "id": "ae6bebb9",
   "metadata": {},
   "outputs": [
    {
     "data": {
      "text/plain": [
       "numpy.ndarray"
      ]
     },
     "execution_count": 38,
     "metadata": {},
     "output_type": "execute_result"
    }
   ],
   "source": [
    "type(img)"
   ]
  },
  {
   "cell_type": "code",
   "execution_count": 39,
   "id": "af0cf6af",
   "metadata": {},
   "outputs": [
    {
     "data": {
      "text/plain": [
       "(512, 512, 3)"
      ]
     },
     "execution_count": 39,
     "metadata": {},
     "output_type": "execute_result"
    }
   ],
   "source": [
    "img.shape"
   ]
  },
  {
   "cell_type": "code",
   "execution_count": 40,
   "id": "e1b4479f",
   "metadata": {},
   "outputs": [],
   "source": [
    "#rows=hight   columns=width   3 chaell=BGR"
   ]
  },
  {
   "cell_type": "markdown",
   "id": "270d7abf",
   "metadata": {},
   "source": [
    "Create a image manually by using array\n",
    "\n",
    "2 * 2 pixels\n",
    "\n",
    "2 black pixels\n",
    "\n",
    "2 white pixels"
   ]
  },
  {
   "cell_type": "code",
   "execution_count": 41,
   "id": "310871a6",
   "metadata": {},
   "outputs": [
    {
     "data": {
      "text/plain": [
       "[[[0, 0, 0], [255, 255, 255]], [[0, 0, 0], [255, 255, 255]]]"
      ]
     },
     "execution_count": 41,
     "metadata": {},
     "output_type": "execute_result"
    }
   ],
   "source": [
    "[\n",
    "    [[0,0,0],[255,255,255]],\n",
    "    [[0,0,0],[255,255,255]]\n",
    "]\n",
    "\n"
   ]
  },
  {
   "cell_type": "code",
   "execution_count": 42,
   "id": "ec57b44a",
   "metadata": {},
   "outputs": [],
   "source": [
    "#Blue green red   [0,0,0]    0-255"
   ]
  },
  {
   "cell_type": "code",
   "execution_count": 43,
   "id": "51958cf2",
   "metadata": {},
   "outputs": [],
   "source": [
    "#fisrt row of our image"
   ]
  },
  {
   "cell_type": "code",
   "execution_count": 44,
   "id": "5dd77642",
   "metadata": {},
   "outputs": [
    {
     "name": "stdout",
     "output_type": "stream",
     "text": [
      "[[125 137 226]\n",
      " [125 137 226]\n",
      " [133 137 223]\n",
      " ...\n",
      " [122 148 230]\n",
      " [110 130 221]\n",
      " [ 90  99 200]]\n"
     ]
    }
   ],
   "source": [
    "print(img[0])"
   ]
  },
  {
   "cell_type": "code",
   "execution_count": 45,
   "id": "271c3f08",
   "metadata": {},
   "outputs": [],
   "source": [
    "# we want to create random pixels\n",
    "import random"
   ]
  },
  {
   "cell_type": "code",
   "execution_count": 46,
   "id": "bb79209d",
   "metadata": {},
   "outputs": [],
   "source": [
    "for i in range(100):\n",
    "    for j in range(img.shape[1]):\n",
    "        img[i][j]=[random.randint(0,255),random.randint(0,255),random.randint(0,255)]\n",
    "        \n",
    "cv2.imshow('Image',img)\n",
    "cv2.waitKey(0)\n",
    "cv2.destroyAllWindows()"
   ]
  },
  {
   "cell_type": "markdown",
   "id": "aa4b779f",
   "metadata": {},
   "source": [
    "Use Slice to manipulate Image"
   ]
  },
  {
   "cell_type": "code",
   "execution_count": 49,
   "id": "1d58d074",
   "metadata": {},
   "outputs": [],
   "source": [
    "cv2.imshow('Image',img[100:300,100:300])\n",
    "cv2.waitKey(0)\n",
    "cv2.destroyAllWindows()"
   ]
  },
  {
   "cell_type": "code",
   "execution_count": null,
   "id": "0b2fabe5",
   "metadata": {},
   "outputs": [],
   "source": []
  }
 ],
 "metadata": {
  "kernelspec": {
   "display_name": "Python 3 (ipykernel)",
   "language": "python",
   "name": "python3"
  },
  "language_info": {
   "codemirror_mode": {
    "name": "ipython",
    "version": 3
   },
   "file_extension": ".py",
   "mimetype": "text/x-python",
   "name": "python",
   "nbconvert_exporter": "python",
   "pygments_lexer": "ipython3",
   "version": "3.9.12"
  }
 },
 "nbformat": 4,
 "nbformat_minor": 5
}
