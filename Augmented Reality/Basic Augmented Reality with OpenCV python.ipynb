{
 "cells": [
  {
   "cell_type": "markdown",
   "id": "46471b7f",
   "metadata": {},
   "source": [
    "# Basic Augmented Reality with OpenCV python"
   ]
  },
  {
   "cell_type": "code",
   "execution_count": 1,
   "id": "74e6c769",
   "metadata": {},
   "outputs": [
    {
     "name": "stdout",
     "output_type": "stream",
     "text": [
      "Defaulting to user installation because normal site-packages is not writeable\n",
      "Collecting opencv-contrib-python\n",
      "  Using cached opencv_contrib_python-4.6.0.66-cp36-abi3-win_amd64.whl (42.5 MB)\n",
      "Requirement already satisfied: numpy>=1.17.3 in c:\\programdata\\anaconda3\\lib\\site-packages (from opencv-contrib-python) (1.21.5)\n",
      "Installing collected packages: opencv-contrib-python\n",
      "Successfully installed opencv-contrib-python-4.6.0.66\n",
      "Note: you may need to restart the kernel to use updated packages.\n"
     ]
    }
   ],
   "source": [
    "#pip install opencv-contrib-python"
   ]
  },
  {
   "cell_type": "code",
   "execution_count": 2,
   "id": "d3d6f6c8",
   "metadata": {},
   "outputs": [],
   "source": [
    "import cv2\n",
    "from cv2 import aruco "
   ]
  },
  {
   "cell_type": "code",
   "execution_count": 4,
   "id": "14807046",
   "metadata": {},
   "outputs": [],
   "source": [
    "#create a marker dictionary 4*4  50 sample"
   ]
  },
  {
   "cell_type": "code",
   "execution_count": 5,
   "id": "4f7b34d1",
   "metadata": {},
   "outputs": [],
   "source": [
    "marker_dict=aruco.Dictionary_get(aruco.DICT_4X4_50)"
   ]
  },
  {
   "cell_type": "code",
   "execution_count": 6,
   "id": "de87b9dd",
   "metadata": {},
   "outputs": [
    {
     "data": {
      "text/plain": [
       "< cv2.aruco.Dictionary 000001C99F145C50>"
      ]
     },
     "execution_count": 6,
     "metadata": {},
     "output_type": "execute_result"
    }
   ],
   "source": [
    "marker_dict"
   ]
  },
  {
   "cell_type": "code",
   "execution_count": 9,
   "id": "b229ece3",
   "metadata": {},
   "outputs": [],
   "source": [
    "#define size of marker pixels"
   ]
  },
  {
   "cell_type": "code",
   "execution_count": 17,
   "id": "47e2f590",
   "metadata": {},
   "outputs": [],
   "source": [
    "marker_size=200"
   ]
  },
  {
   "cell_type": "code",
   "execution_count": 18,
   "id": "d396d417",
   "metadata": {},
   "outputs": [],
   "source": [
    "#generate Unique ID"
   ]
  },
  {
   "cell_type": "code",
   "execution_count": 21,
   "id": "a7045882",
   "metadata": {},
   "outputs": [],
   "source": [
    "for id in range(20):\n",
    "    marker_image=aruco.drawMarker(marker_dict,id,marker_size)\n",
    "    cv2.imshow(\"img\",marker_image)\n",
    "    cv2.imwrite(f\"markers/marker_{id}.png\",marker_image)\n",
    "    #cv2.waitKey(0)\n",
    "    #break"
   ]
  },
  {
   "attachments": {
    "A1-2.png": {
     "image/png": "[encoded data removed]"
    }
   },
   "cell_type": "markdown",
   "id": "1f6253e0",
   "metadata": {},
   "source": [
    "![A1-2.png](attachment:A1-2.png)"
   ]
  },
  {
   "cell_type": "code",
   "execution_count": 23,
   "id": "f511680f",
   "metadata": {},
   "outputs": [],
   "source": [
    "#we use this address to show marker on my mobile Aruco markers: https://chev.me/arucogen/"
   ]
  },
  {
   "cell_type": "code",
   "execution_count": null,
   "id": "5e829be6",
   "metadata": {},
   "outputs": [],
   "source": [
    " "
   ]
  }
 ],
 "metadata": {
  "kernelspec": {
   "display_name": "Python 3 (ipykernel)",
   "language": "python",
   "name": "python3"
  },
  "language_info": {
   "codemirror_mode": {
    "name": "ipython",
    "version": 3
   },
   "file_extension": ".py",
   "mimetype": "text/x-python",
   "name": "python",
   "nbconvert_exporter": "python",
   "pygments_lexer": "ipython3",
   "version": "3.9.12"
  }
 },
 "nbformat": 4,
 "nbformat_minor": 5
}
