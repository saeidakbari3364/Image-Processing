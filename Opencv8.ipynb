{
 "cells": [
  {
   "cell_type": "code",
   "execution_count": 1,
   "id": "fea46033",
   "metadata": {},
   "outputs": [],
   "source": [
    "import cv2 as cv"
   ]
  },
  {
   "cell_type": "code",
   "execution_count": 9,
   "id": "6755e4db",
   "metadata": {},
   "outputs": [],
   "source": [
    "img1=cv.imread('img1.jpg')\n",
    "img2=cv.imread('img2.jpg')"
   ]
  },
  {
   "cell_type": "code",
   "execution_count": 29,
   "id": "1b658bed",
   "metadata": {},
   "outputs": [],
   "source": [
    "img1=cv.resize(img1,(250,200))\n",
    "img2=cv.resize(img2,(250,200))\n",
    "\n",
    "#add1=img1+img2\n",
    "#add2=cv.addWeighted(img1,0.8,img2,0.2,0)\n",
    "img2gray=cv.cvtColor(img2,cv.COLOR_BGR2GRAY)\n",
    "\n",
    "ret,maskimg=cv.threshold(img2gray,45,255,cv.THRESH_BINARY)\n",
    "\n",
    "mask_inv=cv.bitwise_not(maskimg)\n",
    "\n",
    "img1_m=cv.bitwise_and(img1,img1,mask=mask_inv)\n",
    "img2_m=cv.bitwise_and(img2,img2,mask=maskimg)\n",
    "\n",
    "\n",
    "#cv.imshow('image1',img1)\n",
    "#cv.imshow('image2',img2)\n",
    "cv.imshow('image',img1)\n",
    "cv.imshow('img1_m',img2_m)\n",
    "\n",
    "cv.waitKey(0)\n",
    "cv.destroyAllWindows()"
   ]
  },
  {
   "cell_type": "code",
   "execution_count": null,
   "id": "d48e5a60",
   "metadata": {},
   "outputs": [],
   "source": []
  }
 ],
 "metadata": {
  "kernelspec": {
   "display_name": "Python 3 (ipykernel)",
   "language": "python",
   "name": "python3"
  },
  "language_info": {
   "codemirror_mode": {
    "name": "ipython",
    "version": 3
   },
   "file_extension": ".py",
   "mimetype": "text/x-python",
   "name": "python",
   "nbconvert_exporter": "python",
   "pygments_lexer": "ipython3",
   "version": "3.9.12"
  }
 },
 "nbformat": 4,
 "nbformat_minor": 5
}
