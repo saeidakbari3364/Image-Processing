{
 "cells": [
  {
   "cell_type": "markdown",
   "id": "20706f5a",
   "metadata": {},
   "source": [
    "# Drawing (Lines, Images, Circles & Text)"
   ]
  },
  {
   "cell_type": "code",
   "execution_count": 15,
   "id": "f4e3ce1b",
   "metadata": {},
   "outputs": [],
   "source": [
    "import numpy as np\n",
    "import cv2"
   ]
  },
  {
   "cell_type": "code",
   "execution_count": 16,
   "id": "efc22f67",
   "metadata": {},
   "outputs": [],
   "source": [
    "cap=cv2.VideoCapture(0)"
   ]
  },
  {
   "cell_type": "code",
   "execution_count": 17,
   "id": "130298f3",
   "metadata": {},
   "outputs": [],
   "source": [
    "while True:\n",
    "    ret,frame=cap.read()\n",
    "    \n",
    "    width = int(cap.get(3))# 3 GET WIDTH PROPERTY\n",
    "    height = int(cap.get(4))# 4 GET HIGHT PROPERTY\n",
    "    \n",
    "   \n",
    "\n",
    "    #Draw a Line\n",
    "    img=cv2.line(frame, (0,0), (width,height), (255,0,0) ,5)#strat and end point,color,Thickness\n",
    "    img=cv2.line(img, (0,height), (width,0), (0,255,0) ,5)\n",
    "    \n",
    "    #Draw a Rectangle\n",
    "    img=cv2.rectangle(img, (100,100), (200,200), (0,0,255) ,5)#top left anf bottom right\n",
    "    \n",
    "    #Draw a Circle\n",
    "    img=cv2.circle(img,(300,300), 60,(0,0,255),-1) # center, Raduis, Color, -1=fill circle\n",
    "    \n",
    "    #Text\n",
    "    font=cv2.FONT_HERSHEY_COMPLEX\n",
    "    img=cv2.putText(img,'Hello Dear',(200,height-10),font,2,(0,0,0),5,cv2.LINE_AA) \n",
    "    #text, position,font,font scale,color,Line tickness, Line Type\n",
    "    \n",
    "    cv2.imshow(\"frame\",img)\n",
    "    \n",
    "    if cv2.waitKey(1)==ord('q'):\n",
    "        break\n",
    "\n",
    "cap.release()\n",
    "cv2.destroyAllWindows()"
   ]
  },
  {
   "cell_type": "code",
   "execution_count": null,
   "id": "8a2a5d62",
   "metadata": {},
   "outputs": [],
   "source": [
    " "
   ]
  }
 ],
 "metadata": {
  "kernelspec": {
   "display_name": "Python 3 (ipykernel)",
   "language": "python",
   "name": "python3"
  },
  "language_info": {
   "codemirror_mode": {
    "name": "ipython",
    "version": 3
   },
   "file_extension": ".py",
   "mimetype": "text/x-python",
   "name": "python",
   "nbconvert_exporter": "python",
   "pygments_lexer": "ipython3",
   "version": "3.9.12"
  }
 },
 "nbformat": 4,
 "nbformat_minor": 5
}
