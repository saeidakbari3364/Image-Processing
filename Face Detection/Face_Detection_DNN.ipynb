{
 "cells": [
  {
   "cell_type": "code",
   "execution_count": 3,
   "id": "03c6cebe",
   "metadata": {},
   "outputs": [],
   "source": [
    "import numpy as np\n",
    "import cv2 "
   ]
  },
  {
   "cell_type": "code",
   "execution_count": 4,
   "id": "e8568571",
   "metadata": {},
   "outputs": [],
   "source": [
    "img=cv2.imread('./Model/faces.jpg')\n",
    "cv2.imshow('image',img)\n",
    "cv2.waitKey(0)\n",
    "cv2.destroyAllWindows()"
   ]
  },
  {
   "cell_type": "code",
   "execution_count": 5,
   "id": "27007ef9",
   "metadata": {},
   "outputs": [],
   "source": [
    "face_detection_model=cv2.dnn.readNetFromCaffe('./Model/deploy.prototxt.txt','./Model/res10_300x300_ssd_iter_140000.caffemodel')"
   ]
  },
  {
   "cell_type": "code",
   "execution_count": 61,
   "id": "4b04caed",
   "metadata": {},
   "outputs": [],
   "source": [
    "def face_detection_dnn(img):\n",
    "    #step1-blob from image\n",
    "    blob=cv2.dnn.blobFromImage(img,1,(300,300),(104,177,123),swapRB=True)\n",
    "\n",
    "    #step2-set blob as input\n",
    "    face_detection_model.setInput(blob)\n",
    "\n",
    "    #step3-get the output\n",
    "    detections=face_detection_model.forward()\n",
    "\n",
    "    #step4-drawing bounding box out of the face detected\n",
    "    image-img.copy()\n",
    "    h,w=image.shape[:2]\n",
    "    for i in range(0,detections.shape[2]):\n",
    "        confidence=detections[0,0,i,2]\n",
    "        if confidence>0.5:\n",
    "            #diagonal points 3:7\n",
    "            box=detections[0,0,i,3:7]*np.array([w,h,w,h])\n",
    "            box=box.astype('int')\n",
    "            p1=(box[0],box[1])\n",
    "            p2=(box[2],box[3])\n",
    "            #draw rectangle\n",
    "            cv2.rectangle(image,p1,p2,(0,0,255),2)\n",
    "\n",
    "            text='score: {:.0f} %'.format(confidence*100)\n",
    "            cv2.putText(image,text,p1,cv2.FONT_HERSHEY_SCRIPT_SIMPLEX,1,(255,255,255),1)\n",
    "\n",
    "    #cv2.imshow('image',image)\n",
    "    #cv2.waitKey(0)\n",
    "    #cv2.destroyAllWindows()\n",
    "    return image"
   ]
  },
  {
   "cell_type": "code",
   "execution_count": 62,
   "id": "c62523ac",
   "metadata": {},
   "outputs": [],
   "source": [
    "img_detect=face_detection_dnn(img)\n",
    "cv2.imshow('image',img_detect)\n",
    "cv2.waitKey(0)\n",
    "cv2.destroyAllWindows()"
   ]
  },
  {
   "cell_type": "code",
   "execution_count": 7,
   "id": "4e83b786",
   "metadata": {},
   "outputs": [
    {
     "data": {
      "text/plain": [
       "(1, 1, 200, 7)"
      ]
     },
     "execution_count": 7,
     "metadata": {},
     "output_type": "execute_result"
    }
   ],
   "source": [
    "detections.shape"
   ]
  },
  {
   "cell_type": "code",
   "execution_count": 15,
   "id": "382e8f3b",
   "metadata": {},
   "outputs": [
    {
     "data": {
      "text/plain": [
       "(349, 620)"
      ]
     },
     "execution_count": 15,
     "metadata": {},
     "output_type": "execute_result"
    }
   ],
   "source": [
    "image=img.copy()\n",
    "image.shape[:2]\n"
   ]
  },
  {
   "cell_type": "code",
   "execution_count": 19,
   "id": "10b0fbab",
   "metadata": {},
   "outputs": [
    {
     "data": {
      "text/plain": [
       "array([0.9840151 , 0.94294983, 0.93852323, 0.64889914, 0.1409829 ,\n",
       "       0.1306343 , 0.11604731, 0.11102255, 0.1058416 , 0.10531221,\n",
       "       0.10299055, 0.10263243, 0.09813836, 0.09648059, 0.0955316 ,\n",
       "       0.09512691, 0.09392449, 0.09362706, 0.0935647 , 0.09172019,\n",
       "       0.09124843, 0.09117849, 0.09087311, 0.0906086 , 0.08918419,\n",
       "       0.08904949, 0.08888301, 0.08879568, 0.08844741, 0.08816624,\n",
       "       0.08814394, 0.0879451 , 0.08781833, 0.08756871, 0.08745909,\n",
       "       0.08719447, 0.08707898, 0.08688767, 0.08642443, 0.08640453,\n",
       "       0.0862636 , 0.08612955, 0.0861181 , 0.08571972, 0.0851794 ,\n",
       "       0.08501004, 0.08478802, 0.08475907, 0.08428978, 0.08386167,\n",
       "       0.08380896, 0.08372811, 0.08364581, 0.08363985, 0.08363832,\n",
       "       0.08347051, 0.08316626, 0.08315517, 0.08275096, 0.08264603,\n",
       "       0.08261672, 0.08257951, 0.0824748 , 0.08237419, 0.08219832,\n",
       "       0.0821361 , 0.08212148, 0.08194728, 0.08194519, 0.08187522,\n",
       "       0.08181036, 0.08181012, 0.08176288, 0.08166607, 0.08151083,\n",
       "       0.08140881, 0.08126908, 0.08116067, 0.08114279, 0.08114213,\n",
       "       0.08100902, 0.08100575, 0.08070806, 0.08067744, 0.0806529 ,\n",
       "       0.08048703, 0.08048218, 0.08039846, 0.08020867, 0.08016239,\n",
       "       0.08009017, 0.0799481 , 0.07984961, 0.07956254, 0.07953128,\n",
       "       0.07934562, 0.07932768, 0.07927336, 0.07925439, 0.07924379,\n",
       "       0.07923002, 0.07912134, 0.07907806, 0.07905098, 0.07902646,\n",
       "       0.07902102, 0.07887875, 0.        , 0.        , 0.        ,\n",
       "       0.        , 0.        , 0.        , 0.        , 0.        ,\n",
       "       0.        , 0.        , 0.        , 0.        , 0.        ,\n",
       "       0.        , 0.        , 0.        , 0.        , 0.        ,\n",
       "       0.        , 0.        , 0.        , 0.        , 0.        ,\n",
       "       0.        , 0.        , 0.        , 0.        , 0.        ,\n",
       "       0.        , 0.        , 0.        , 0.        , 0.        ,\n",
       "       0.        , 0.        , 0.        , 0.        , 0.        ,\n",
       "       0.        , 0.        , 0.        , 0.        , 0.        ,\n",
       "       0.        , 0.        , 0.        , 0.        , 0.        ,\n",
       "       0.        , 0.        , 0.        , 0.        , 0.        ,\n",
       "       0.        , 0.        , 0.        , 0.        , 0.        ,\n",
       "       0.        , 0.        , 0.        , 0.        , 0.        ,\n",
       "       0.        , 0.        , 0.        , 0.        , 0.        ,\n",
       "       0.        , 0.        , 0.        , 0.        , 0.        ,\n",
       "       0.        , 0.        , 0.        , 0.        , 0.        ,\n",
       "       0.        , 0.        , 0.        , 0.        , 0.        ,\n",
       "       0.        , 0.        , 0.        , 0.        , 0.        ,\n",
       "       0.        , 0.        , 0.        , 0.        , 0.        ],\n",
       "      dtype=float32)"
      ]
     },
     "execution_count": 19,
     "metadata": {},
     "output_type": "execute_result"
    }
   ],
   "source": [
    "detections[0,0,:,2]"
   ]
  },
  {
   "cell_type": "code",
   "execution_count": 22,
   "id": "492fa513",
   "metadata": {},
   "outputs": [
    {
     "data": {
      "text/plain": [
       "array([0.19488767, 0.1623927 , 0.27129608, 0.35642   ], dtype=float32)"
      ]
     },
     "execution_count": 22,
     "metadata": {},
     "output_type": "execute_result"
    }
   ],
   "source": [
    "# x,y, w,h bounding box of face\n",
    "detections[0,0,1,3:7]"
   ]
  },
  {
   "cell_type": "code",
   "execution_count": 23,
   "id": "a88c42e5",
   "metadata": {},
   "outputs": [
    {
     "data": {
      "text/plain": [
       "(349, 620, 3)"
      ]
     },
     "execution_count": 23,
     "metadata": {},
     "output_type": "execute_result"
    }
   ],
   "source": [
    "image.shape"
   ]
  },
  {
   "cell_type": "code",
   "execution_count": 26,
   "id": "d1a2e46b",
   "metadata": {},
   "outputs": [
    {
     "name": "stdout",
     "output_type": "stream",
     "text": [
      "349\n",
      "620\n"
     ]
    }
   ],
   "source": [
    "w,h=image.shape[:2]\n",
    "print(w)\n",
    "print(h)"
   ]
  },
  {
   "cell_type": "code",
   "execution_count": 27,
   "id": "cd1b7c6e",
   "metadata": {},
   "outputs": [
    {
     "data": {
      "text/plain": [
       "array([349, 620, 349, 620])"
      ]
     },
     "execution_count": 27,
     "metadata": {},
     "output_type": "execute_result"
    }
   ],
   "source": [
    "np.array([w,h,w,h])"
   ]
  },
  {
   "cell_type": "code",
   "execution_count": 30,
   "id": "5cffa8bc",
   "metadata": {},
   "outputs": [
    {
     "data": {
      "text/plain": [
       "array([120.83035409,  56.67505428, 168.20357203, 124.3905836 ])"
      ]
     },
     "execution_count": 30,
     "metadata": {},
     "output_type": "execute_result"
    }
   ],
   "source": [
    "#denormalize values\n",
    "detections[0,0,1,3:7]*np.array([w,h,w,h])"
   ]
  },
  {
   "cell_type": "code",
   "execution_count": 35,
   "id": "c5b8f393",
   "metadata": {},
   "outputs": [
    {
     "data": {
      "text/plain": [
       "array([120,  56, 168, 124])"
      ]
     },
     "execution_count": 35,
     "metadata": {},
     "output_type": "execute_result"
    }
   ],
   "source": [
    "box=detections[0,0,1,3:7]*np.array([w,h,w,h])\n",
    "box=box.astype('int')\n",
    "box"
   ]
  },
  {
   "cell_type": "code",
   "execution_count": 37,
   "id": "cc081abb",
   "metadata": {},
   "outputs": [
    {
     "name": "stdout",
     "output_type": "stream",
     "text": [
      "(120, 56)\n",
      "(168, 124)\n"
     ]
    }
   ],
   "source": [
    "#points\n",
    "p1=(box[0],box[1])\n",
    "p2=(box[2],box[3])\n",
    "print(p1)\n",
    "print(p2)"
   ]
  },
  {
   "cell_type": "code",
   "execution_count": null,
   "id": "ef362227",
   "metadata": {},
   "outputs": [],
   "source": []
  }
 ],
 "metadata": {
  "kernelspec": {
   "display_name": "Python 3 (ipykernel)",
   "language": "python",
   "name": "python3"
  },
  "language_info": {
   "codemirror_mode": {
    "name": "ipython",
    "version": 3
   },
   "file_extension": ".py",
   "mimetype": "text/x-python",
   "name": "python",
   "nbconvert_exporter": "python",
   "pygments_lexer": "ipython3",
   "version": "3.9.12"
  }
 },
 "nbformat": 4,
 "nbformat_minor": 5
}
