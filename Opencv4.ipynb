{
 "cells": [
  {
   "cell_type": "markdown",
   "id": "20706f5a",
   "metadata": {},
   "source": [
    "# Cameras and VideoCapture"
   ]
  },
  {
   "cell_type": "code",
   "execution_count": 2,
   "id": "f4e3ce1b",
   "metadata": {},
   "outputs": [],
   "source": [
    "import numpy as np\n",
    "import cv2"
   ]
  },
  {
   "cell_type": "code",
   "execution_count": 3,
   "id": "efc22f67",
   "metadata": {},
   "outputs": [],
   "source": [
    "cap=cv2.VideoCapture(0)"
   ]
  },
  {
   "cell_type": "code",
   "execution_count": 5,
   "id": "625dee3f",
   "metadata": {},
   "outputs": [],
   "source": [
    "# 0 zero means: first camera\n",
    "#we can use instead of number write a route of vedio capture device"
   ]
  },
  {
   "cell_type": "markdown",
   "id": "997b6dc7",
   "metadata": {},
   "source": [
    "Get a frame"
   ]
  },
  {
   "cell_type": "markdown",
   "id": "2c6e3410",
   "metadata": {},
   "source": [
    "while True:\n",
    "    ret,frame=cap.read()\n",
    "    \n",
    "    cv2.imshow(\"frame\",frame)\n",
    "    \n",
    "    if cv2.waitKey(1)==ord('q'):\n",
    "        break\n",
    "\n",
    "cap.release()\n",
    "cv2.destroyAllWindows()"
   ]
  },
  {
   "cell_type": "markdown",
   "id": "f989ef3c",
   "metadata": {},
   "source": [
    "We can manipulate and rotate vedio camer frame"
   ]
  },
  {
   "cell_type": "code",
   "execution_count": null,
   "id": "130298f3",
   "metadata": {},
   "outputs": [],
   "source": [
    "while True:\n",
    "    ret,frame=cap.read()\n",
    "    \n",
    "    #we create an array for shape\n",
    "    image=np.zeros(frame.shape,np.uint8)\n",
    "    \n",
    "    width = int(cap.get(3))# 3 GET WIDTH PROPERTY\n",
    "    height = int(cap.get(4))# 4 GET HIGHT PROPERTY\n",
    "    \n",
    "   \n",
    "\n",
    "    \n",
    "    smaller_frame=cv2.resize(frame,(0,0),fx=0.5,fy=0.5)\n",
    "    \n",
    "    image[:height//2, :width//2] = cv2.rotate(smaller_frame, cv2.ROTATE_180)#TOP LEFT\n",
    "    image[height//2:, :width//2] = smaller_frame#BOTTOM lEFT\n",
    "    image[:height//2, width//2:] = cv2.rotate(smaller_frame, cv2.ROTATE_180)#TOP RIGHT\n",
    "    image[height//2:, width//2:] = smaller_frame#BOTTOM RIGHT\n",
    "\n",
    "    \n",
    "    cv2.imshow(\"frame\",image)\n",
    "    \n",
    "    if cv2.waitKey(1)==ord('q'):\n",
    "        break\n",
    "\n",
    "cap.release()\n",
    "cv2.destroyAllWindows()"
   ]
  },
  {
   "cell_type": "code",
   "execution_count": null,
   "id": "8a2a5d62",
   "metadata": {},
   "outputs": [],
   "source": [
    " "
   ]
  }
 ],
 "metadata": {
  "kernelspec": {
   "display_name": "Python 3 (ipykernel)",
   "language": "python",
   "name": "python3"
  },
  "language_info": {
   "codemirror_mode": {
    "name": "ipython",
    "version": 3
   },
   "file_extension": ".py",
   "mimetype": "text/x-python",
   "name": "python",
   "nbconvert_exporter": "python",
   "pygments_lexer": "ipython3",
   "version": "3.9.12"
  }
 },
 "nbformat": 4,
 "nbformat_minor": 5
}
