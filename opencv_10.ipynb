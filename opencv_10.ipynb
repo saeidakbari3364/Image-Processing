{
 "cells": [
  {
   "cell_type": "code",
   "execution_count": 5,
   "id": "d2b79e0a",
   "metadata": {},
   "outputs": [],
   "source": [
    "#Morphological image processing (MIP)\n",
    "#is a group of non-linear operations that correlate to the shape or morphology of features in an image"
   ]
  },
  {
   "cell_type": "code",
   "execution_count": 6,
   "id": "3f870cd0",
   "metadata": {},
   "outputs": [],
   "source": [
    "#Types of morphological operations\n",
    "#Dilation: In the dilation process, we add pixels to the bounded objects.\n",
    "#Erosion: In the erosion process, we remove pixels from the edges of objects.\n",
    "#opening\n",
    "#closing\n",
    "#gradient"
   ]
  },
  {
   "cell_type": "code",
   "execution_count": 7,
   "id": "83683683",
   "metadata": {},
   "outputs": [],
   "source": [
    "import numpy as np\n",
    "import matplotlib.pyplot as plt\n",
    "import cv2 as cv"
   ]
  },
  {
   "cell_type": "code",
   "execution_count": 46,
   "id": "0d77aa28",
   "metadata": {},
   "outputs": [],
   "source": [
    "original_image=cv.imread('j.png',0)\n",
    "_,mask=cv.threshold(original_image,25,255,cv.THRESH_BINARY)"
   ]
  },
  {
   "cell_type": "code",
   "execution_count": 47,
   "id": "64f38b2c",
   "metadata": {},
   "outputs": [],
   "source": [
    "#Erosion\n",
    "kernel=np.ones((3,3),np.uint8)\n",
    "eroded_img=cv.erode(mask,kernel,iterations=1)"
   ]
  },
  {
   "cell_type": "code",
   "execution_count": 48,
   "id": "d6a913d8",
   "metadata": {},
   "outputs": [],
   "source": [
    "#dilation\n",
    "kernel=np.ones((3,3),np.uint8)\n",
    "dilation_img=cv.dilate(eroded_img,kernel,iterations=1)"
   ]
  },
  {
   "cell_type": "code",
   "execution_count": 49,
   "id": "52843ae5",
   "metadata": {},
   "outputs": [],
   "source": [
    "#Closing\n",
    "kernel=np.ones((3,3),np.uint8)\n",
    "closed_img=cv.morphologyEx(mask,cv.MORPH_CLOSE,kernel)"
   ]
  },
  {
   "cell_type": "code",
   "execution_count": 50,
   "id": "2358711e",
   "metadata": {},
   "outputs": [],
   "source": [
    "#opening\n",
    "kernel=np.ones((3,3),np.uint8)\n",
    "opened_img=cv.morphologyEx(mask,cv.MORPH_OPEN,kernel)"
   ]
  },
  {
   "cell_type": "code",
   "execution_count": 51,
   "id": "12b11263",
   "metadata": {},
   "outputs": [],
   "source": [
    "#Gradient\n",
    "grad_img=cv.morphologyEx(mask,cv.MORPH_GRADIENT,kernel)"
   ]
  },
  {
   "cell_type": "code",
   "execution_count": 52,
   "id": "f6a986af",
   "metadata": {},
   "outputs": [
    {
     "data": {
      "image/png": "[encoded data removed]",
      "text/plain": [
       "<Figure size 720x1440 with 6 Axes>"
      ]
     },
     "metadata": {
      "needs_background": "light"
     },
     "output_type": "display_data"
    }
   ],
   "source": [
    "fig,(ax1,ax2,ax3,ax4,ax5,ax6)=plt.subplots(1,6,figsize=(10,20))\n",
    "ax1.axis('off')\n",
    "ax1.title.set_text('original')\n",
    "ax2.axis('off')\n",
    "ax2.title.set_text('dilation')\n",
    "ax3.axis('off')\n",
    "ax3.title.set_text('eroded')\n",
    "ax4.axis('off')\n",
    "ax4.title.set_text('closing')\n",
    "ax5.axis('off')\n",
    "ax5.title.set_text('opening')\n",
    "ax6.axis('off')\n",
    "ax6.title.set_text('gradient')\n",
    "ax1.imshow(original_image,cmap='gray')\n",
    "ax2.imshow(dilation_img,cmap='gray')\n",
    "ax3.imshow(eroded_img,cmap='gray')\n",
    "ax4.imshow(closed_img,cmap='gray')\n",
    "ax5.imshow(opened_img,cmap='gray')\n",
    "ax6.imshow(grad_img,cmap='gray')\n",
    "\n",
    "plt.show()"
   ]
  },
  {
   "cell_type": "code",
   "execution_count": null,
   "id": "87f82094",
   "metadata": {},
   "outputs": [],
   "source": []
  }
 ],
 "metadata": {
  "kernelspec": {
   "display_name": "Python 3 (ipykernel)",
   "language": "python",
   "name": "python3"
  },
  "language_info": {
   "codemirror_mode": {
    "name": "ipython",
    "version": 3
   },
   "file_extension": ".py",
   "mimetype": "text/x-python",
   "name": "python",
   "nbconvert_exporter": "python",
   "pygments_lexer": "ipython3",
   "version": "3.9.12"
  }
 },
 "nbformat": 4,
 "nbformat_minor": 5
}
