{
 "cells": [
  {
   "cell_type": "code",
   "execution_count": 2,
   "id": "29e99b91",
   "metadata": {},
   "outputs": [],
   "source": [
    "import numpy as np\n",
    "import cv2"
   ]
  },
  {
   "cell_type": "code",
   "execution_count": 17,
   "id": "979e7dea",
   "metadata": {},
   "outputs": [],
   "source": [
    "img=cv2.imread('./images/flamingo.jpg')\n",
    "\n",
    "cv2.imshow('image',img)\n",
    "cv2.waitKey(0)\n",
    "cv2.destroyAllWindows()"
   ]
  },
  {
   "cell_type": "code",
   "execution_count": 18,
   "id": "daf303bc",
   "metadata": {},
   "outputs": [],
   "source": [
    "mask=np.zeros(img.shape[:2],dtype='uint8')\n",
    "\n",
    "cv2.imshow('mask',mask)\n",
    "cv2.waitKey(0)\n",
    "cv2.destroyAllWindows()"
   ]
  },
  {
   "cell_type": "code",
   "execution_count": 9,
   "id": "aabdd8ac",
   "metadata": {},
   "outputs": [
    {
     "data": {
      "text/plain": [
       "(280, 400, 3)"
      ]
     },
     "execution_count": 9,
     "metadata": {},
     "output_type": "execute_result"
    }
   ],
   "source": [
    "img.shape"
   ]
  },
  {
   "cell_type": "code",
   "execution_count": 10,
   "id": "fb642689",
   "metadata": {},
   "outputs": [
    {
     "data": {
      "text/plain": [
       "(280, 400)"
      ]
     },
     "execution_count": 10,
     "metadata": {},
     "output_type": "execute_result"
    }
   ],
   "source": [
    "img.shape[:2]"
   ]
  },
  {
   "cell_type": "code",
   "execution_count": 11,
   "id": "cfc23780",
   "metadata": {},
   "outputs": [
    {
     "data": {
      "text/plain": [
       "400"
      ]
     },
     "execution_count": 11,
     "metadata": {},
     "output_type": "execute_result"
    }
   ],
   "source": [
    "img.shape[1]"
   ]
  },
  {
   "cell_type": "code",
   "execution_count": 12,
   "id": "5917cf13",
   "metadata": {},
   "outputs": [],
   "source": [
    "cx,cy=img.shape[1]//2,img.shape[0]//2"
   ]
  },
  {
   "cell_type": "code",
   "execution_count": 19,
   "id": "8b2b7fbd",
   "metadata": {},
   "outputs": [],
   "source": [
    "cv2.rectangle(mask,(cx-100,cy-100),(cx+100,cy+100),255,-1)\n",
    "\n",
    "cv2.imshow('mask',mask)\n",
    "cv2.waitKey(0)\n",
    "cv2.destroyAllWindows()"
   ]
  },
  {
   "cell_type": "code",
   "execution_count": 21,
   "id": "8c53f549",
   "metadata": {},
   "outputs": [],
   "source": [
    "img_mask=cv2.bitwise_and(img,img,mask=mask)\n",
    "\n",
    "cv2.imshow('image',img_mask)\n",
    "cv2.waitKey(0)\n",
    "cv2.destroyAllWindows()"
   ]
  },
  {
   "cell_type": "code",
   "execution_count": 22,
   "id": "17df0f8c",
   "metadata": {},
   "outputs": [],
   "source": [
    "mask_not=cv2.bitwise_not(mask)\n",
    "\n",
    "cv2.imshow('not_mask',mask_not)\n",
    "cv2.waitKey(0)\n",
    "cv2.destroyAllWindows()"
   ]
  },
  {
   "cell_type": "code",
   "execution_count": 23,
   "id": "5eb487cf",
   "metadata": {},
   "outputs": [],
   "source": [
    "img_mask_not=cv2.bitwise_and(img,img,mask=mask_not)\n",
    "\n",
    "cv2.imshow('image',img_mask_not)\n",
    "cv2.waitKey(0)\n",
    "cv2.destroyAllWindows()"
   ]
  },
  {
   "cell_type": "code",
   "execution_count": 24,
   "id": "e84d8530",
   "metadata": {},
   "outputs": [],
   "source": [
    "mask_c=np.zeros(img.shape[:2],dtype='uint8')\n",
    "\n",
    "cx,cy=mask_c.shape[1]//2,mask_c.shape[0]//2\n",
    "cv2.circle(mask_c,(cx,cy),100,255,-1)\n",
    "\n",
    "cv2.imshow('image',mask_c)\n",
    "cv2.waitKey(0)\n",
    "cv2.destroyAllWindows()"
   ]
  },
  {
   "cell_type": "code",
   "execution_count": 27,
   "id": "722c27d2",
   "metadata": {},
   "outputs": [],
   "source": [
    "img_mask_circle=cv2.bitwise_and(img,img,mask=mask_c)\n",
    "\n",
    "cv2.imshow('image',img_mask_circle)\n",
    "cv2.waitKey(0)\n",
    "cv2.destroyAllWindows()"
   ]
  },
  {
   "cell_type": "code",
   "execution_count": null,
   "id": "109fa46e",
   "metadata": {},
   "outputs": [],
   "source": []
  }
 ],
 "metadata": {
  "kernelspec": {
   "display_name": "Python 3 (ipykernel)",
   "language": "python",
   "name": "python3"
  },
  "language_info": {
   "codemirror_mode": {
    "name": "ipython",
    "version": 3
   },
   "file_extension": ".py",
   "mimetype": "text/x-python",
   "name": "python",
   "nbconvert_exporter": "python",
   "pygments_lexer": "ipython3",
   "version": "3.9.12"
  }
 },
 "nbformat": 4,
 "nbformat_minor": 5
}
