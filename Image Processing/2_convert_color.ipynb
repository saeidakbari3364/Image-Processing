{
 "cells": [
  {
   "cell_type": "markdown",
   "metadata": {},
   "source": [
    "### Image Processing using OpenCV from Zero to Hero\n",
    "- Author: Srikanth Guskra\n",
    "- URL: https://www.udemy.com/user/data-science-anywhere-2/"
   ]
  },
  {
   "cell_type": "markdown",
   "metadata": {},
   "source": [
    "# Color Space"
   ]
  },
  {
   "cell_type": "code",
   "execution_count": 1,
   "metadata": {},
   "outputs": [],
   "source": [
    "import numpy as np\n",
    "import cv2"
   ]
  },
  {
   "cell_type": "code",
   "execution_count": 2,
   "metadata": {},
   "outputs": [],
   "source": [
    "img = cv2.imread('./images/flemingo.jpg') # bgr"
   ]
  },
  {
   "cell_type": "code",
   "execution_count": 3,
   "metadata": {},
   "outputs": [
    {
     "data": {
      "text/plain": [
       "array([[[188, 163, 119],\n",
       "        [189, 164, 120],\n",
       "        [189, 164, 120],\n",
       "        ...,\n",
       "        [188, 163, 119],\n",
       "        [188, 163, 119],\n",
       "        [188, 163, 119]],\n",
       "\n",
       "       [[188, 163, 119],\n",
       "        [189, 164, 120],\n",
       "        [189, 164, 120],\n",
       "        ...,\n",
       "        [188, 163, 119],\n",
       "        [188, 163, 119],\n",
       "        [188, 163, 119]],\n",
       "\n",
       "       [[188, 163, 119],\n",
       "        [189, 164, 120],\n",
       "        [189, 164, 120],\n",
       "        ...,\n",
       "        [188, 163, 119],\n",
       "        [188, 163, 119],\n",
       "        [188, 163, 119]],\n",
       "\n",
       "       ...,\n",
       "\n",
       "       [[167, 134,  88],\n",
       "        [167, 134,  88],\n",
       "        [167, 134,  88],\n",
       "        ...,\n",
       "        [177, 144,  98],\n",
       "        [177, 144,  98],\n",
       "        [177, 144,  98]],\n",
       "\n",
       "       [[171, 141,  94],\n",
       "        [171, 141,  94],\n",
       "        [172, 142,  95],\n",
       "        ...,\n",
       "        [177, 144,  98],\n",
       "        [177, 144,  98],\n",
       "        [177, 144,  98]],\n",
       "\n",
       "       [[177, 147, 100],\n",
       "        [177, 147, 100],\n",
       "        [178, 148, 101],\n",
       "        ...,\n",
       "        [177, 144,  98],\n",
       "        [177, 144,  98],\n",
       "        [177, 144,  98]]], dtype=uint8)"
      ]
     },
     "execution_count": 3,
     "metadata": {},
     "output_type": "execute_result"
    }
   ],
   "source": [
    "img"
   ]
  },
  {
   "cell_type": "code",
   "execution_count": 4,
   "metadata": {},
   "outputs": [
    {
     "data": {
      "text/plain": [
       "(640, 640, 3)"
      ]
     },
     "execution_count": 4,
     "metadata": {},
     "output_type": "execute_result"
    }
   ],
   "source": [
    "img.shape"
   ]
  },
  {
   "cell_type": "code",
   "execution_count": 5,
   "metadata": {},
   "outputs": [],
   "source": [
    "b,g,r = cv2.split(img)"
   ]
  },
  {
   "cell_type": "code",
   "execution_count": 12,
   "metadata": {},
   "outputs": [
    {
     "data": {
      "text/plain": [
       "array([[188, 189, 189, ..., 188, 188, 188],\n",
       "       [188, 189, 189, ..., 188, 188, 188],\n",
       "       [188, 189, 189, ..., 188, 188, 188],\n",
       "       ...,\n",
       "       [167, 167, 167, ..., 177, 177, 177],\n",
       "       [171, 171, 172, ..., 177, 177, 177],\n",
       "       [177, 177, 178, ..., 177, 177, 177]], dtype=uint8)"
      ]
     },
     "execution_count": 12,
     "metadata": {},
     "output_type": "execute_result"
    }
   ],
   "source": [
    "b"
   ]
  },
  {
   "cell_type": "code",
   "execution_count": 14,
   "metadata": {},
   "outputs": [],
   "source": [
    "cv2.imshow('color',img)\n",
    "cv2.imshow('blue',b)\n",
    "cv2.imshow('red',r)\n",
    "cv2.imshow('green',g)\n",
    "cv2.waitKey(0)\n",
    "cv2.destroyAllWindows()"
   ]
  },
  {
   "cell_type": "markdown",
   "metadata": {},
   "source": [
    "# color converter"
   ]
  },
  {
   "cell_type": "code",
   "execution_count": 15,
   "metadata": {},
   "outputs": [],
   "source": [
    "img_rgb = cv2.cvtColor(img,cv2.COLOR_BGR2RGB)"
   ]
  },
  {
   "cell_type": "code",
   "execution_count": 16,
   "metadata": {},
   "outputs": [],
   "source": [
    "# grayscale\n",
    "gray = cv2.cvtColor(img,cv2.COLOR_BGR2GRAY)"
   ]
  },
  {
   "cell_type": "code",
   "execution_count": 17,
   "metadata": {},
   "outputs": [],
   "source": [
    "cv2.imshow('color_bgr',img)\n",
    "cv2.imshow('color_rgb',img_rgb)\n",
    "cv2.imshow('gray',gray)\n",
    "cv2.waitKey(0)\n",
    "cv2.destroyAllWindows()"
   ]
  },
  {
   "cell_type": "code",
   "execution_count": 18,
   "metadata": {},
   "outputs": [
    {
     "data": {
      "text/plain": [
       "True"
      ]
     },
     "execution_count": 18,
     "metadata": {},
     "output_type": "execute_result"
    }
   ],
   "source": [
    "cv2.imwrite('GRAY.png',gray)"
   ]
  },
  {
   "cell_type": "markdown",
   "metadata": {},
   "source": [
    "---\n",
    "Srikanth Guskra\n",
    "\n",
    "www.datascienceanywhere.com"
   ]
  }
 ],
 "metadata": {
  "kernelspec": {
   "display_name": "Python 3",
   "language": "python",
   "name": "python3"
  },
  "language_info": {
   "codemirror_mode": {
    "name": "ipython",
    "version": 3
   },
   "file_extension": ".py",
   "mimetype": "text/x-python",
   "name": "python",
   "nbconvert_exporter": "python",
   "pygments_lexer": "ipython3",
   "version": "3.9.2"
  }
 },
 "nbformat": 4,
 "nbformat_minor": 4
}
