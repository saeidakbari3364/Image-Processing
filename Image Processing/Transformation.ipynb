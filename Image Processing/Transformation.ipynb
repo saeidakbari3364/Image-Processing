{
 "cells": [
  {
   "cell_type": "code",
   "execution_count": 1,
   "id": "c1b61242",
   "metadata": {},
   "outputs": [],
   "source": [
    "import numpy as np\n",
    "import cv2"
   ]
  },
  {
   "cell_type": "code",
   "execution_count": 14,
   "id": "fb0de002",
   "metadata": {},
   "outputs": [],
   "source": [
    "img=cv2.imread('./images/flemingo.jpg')"
   ]
  },
  {
   "cell_type": "code",
   "execution_count": 17,
   "id": "fa7f9dd8",
   "metadata": {},
   "outputs": [],
   "source": [
    "def display(winame,image):\n",
    "    cv2.imshow(winame,image)\n",
    "    cv2.waitKey(0)\n",
    "    cv2.destroyAllWindows()    "
   ]
  },
  {
   "cell_type": "code",
   "execution_count": 18,
   "id": "37942405",
   "metadata": {},
   "outputs": [],
   "source": [
    "display('flamingo',img)"
   ]
  },
  {
   "cell_type": "code",
   "execution_count": 19,
   "id": "7a47c40f",
   "metadata": {},
   "outputs": [],
   "source": [
    "#image translation"
   ]
  },
  {
   "cell_type": "code",
   "execution_count": 20,
   "id": "211ca7c4",
   "metadata": {},
   "outputs": [],
   "source": [
    "tx=100 #right +  and left -\n",
    "ty=150 #down + and up -\n",
    "\n",
    "M=np.float32([[1,0,tx],\n",
    "              [0,1,ty]])"
   ]
  },
  {
   "cell_type": "code",
   "execution_count": 24,
   "id": "7b4bde65",
   "metadata": {},
   "outputs": [],
   "source": [
    "translated_image=cv2.warpAffine(img,M,(img.shape[1],img.shape[0]))"
   ]
  },
  {
   "cell_type": "code",
   "execution_count": 25,
   "id": "d1551a12",
   "metadata": {},
   "outputs": [],
   "source": [
    "display('translate',translated_image)"
   ]
  },
  {
   "cell_type": "code",
   "execution_count": 26,
   "id": "5a289081",
   "metadata": {},
   "outputs": [],
   "source": [
    "def translation(image,tx,ty):\n",
    "    M=np.float32([[1,0,tx],[0,1,ty]])\n",
    "    translated_image=cv2.warpAffine(image,M,(image.shape[1],image.shape[0]))\n",
    "    display('shifted',translated_image)"
   ]
  },
  {
   "cell_type": "code",
   "execution_count": 27,
   "id": "866e3292",
   "metadata": {},
   "outputs": [],
   "source": [
    "translation(img,-100,-150)"
   ]
  },
  {
   "cell_type": "code",
   "execution_count": 28,
   "id": "4fe25e67",
   "metadata": {},
   "outputs": [],
   "source": [
    "#image Rotation"
   ]
  },
  {
   "cell_type": "code",
   "execution_count": 29,
   "id": "5ae5c003",
   "metadata": {},
   "outputs": [],
   "source": [
    "center=(img.shape[1]//2,img.shape[0]//2)"
   ]
  },
  {
   "cell_type": "code",
   "execution_count": 31,
   "id": "50b5a0d8",
   "metadata": {},
   "outputs": [],
   "source": [
    "M=cv2.getRotationMatrix2D(center,45,1)"
   ]
  },
  {
   "cell_type": "code",
   "execution_count": 32,
   "id": "943a77a7",
   "metadata": {},
   "outputs": [
    {
     "data": {
      "text/plain": [
       "array([[   0.70710678,    0.70710678, -132.54833996],\n",
       "       [  -0.70710678,    0.70710678,  320.        ]])"
      ]
     },
     "execution_count": 32,
     "metadata": {},
     "output_type": "execute_result"
    }
   ],
   "source": [
    "M"
   ]
  },
  {
   "cell_type": "code",
   "execution_count": 33,
   "id": "90088ac2",
   "metadata": {},
   "outputs": [],
   "source": [
    "rotate_45=cv2.warpAffine(img,M,(img.shape[1],img.shape[0]))"
   ]
  },
  {
   "cell_type": "code",
   "execution_count": 34,
   "id": "54bead4a",
   "metadata": {},
   "outputs": [],
   "source": [
    "display('rotate',rotate_45)"
   ]
  },
  {
   "cell_type": "code",
   "execution_count": 35,
   "id": "7fb98883",
   "metadata": {},
   "outputs": [],
   "source": [
    "def rotate(image,angle,scale):\n",
    "    center=(image.shape[1]//2,image.shape[0]//2)\n",
    "    M=cv2.getRotationMatrix2D(center,angle,scale)\n",
    "    rotate=cv2.warpAffine(image,M,(image.shape[1],image.shape[0]))\n",
    "    display('rotate',rotate)"
   ]
  },
  {
   "cell_type": "code",
   "execution_count": 36,
   "id": "aedfc15a",
   "metadata": {},
   "outputs": [],
   "source": [
    "rotate(img,180,0.5)"
   ]
  },
  {
   "cell_type": "code",
   "execution_count": 37,
   "id": "321427db",
   "metadata": {},
   "outputs": [],
   "source": [
    "#Resize"
   ]
  },
  {
   "cell_type": "code",
   "execution_count": 38,
   "id": "e471e26a",
   "metadata": {},
   "outputs": [
    {
     "data": {
      "text/plain": [
       "(640, 640, 3)"
      ]
     },
     "execution_count": 38,
     "metadata": {},
     "output_type": "execute_result"
    }
   ],
   "source": [
    "img.shape"
   ]
  },
  {
   "cell_type": "code",
   "execution_count": 39,
   "id": "a770b4a6",
   "metadata": {},
   "outputs": [],
   "source": [
    "img_resize=cv2.resize(img,(300,300),interpolation=cv2.INTER_AREA)\n",
    "display('resize',img_resize)"
   ]
  },
  {
   "cell_type": "code",
   "execution_count": 40,
   "id": "e98e50e3",
   "metadata": {},
   "outputs": [],
   "source": [
    "#flipping"
   ]
  },
  {
   "cell_type": "code",
   "execution_count": 41,
   "id": "6e459c0b",
   "metadata": {},
   "outputs": [],
   "source": [
    "#1=horizontaly -1=verticaly  0=both "
   ]
  },
  {
   "cell_type": "code",
   "execution_count": 44,
   "id": "8a806583",
   "metadata": {},
   "outputs": [],
   "source": [
    "flip_image=cv2.flip(img,0)\n",
    "display('flipping',flip_image)"
   ]
  },
  {
   "cell_type": "code",
   "execution_count": 45,
   "id": "1f75d546",
   "metadata": {},
   "outputs": [],
   "source": [
    "#Cropping"
   ]
  },
  {
   "cell_type": "code",
   "execution_count": null,
   "id": "e4446cdd",
   "metadata": {},
   "outputs": [],
   "source": []
  }
 ],
 "metadata": {
  "kernelspec": {
   "display_name": "Python 3 (ipykernel)",
   "language": "python",
   "name": "python3"
  },
  "language_info": {
   "codemirror_mode": {
    "name": "ipython",
    "version": 3
   },
   "file_extension": ".py",
   "mimetype": "text/x-python",
   "name": "python",
   "nbconvert_exporter": "python",
   "pygments_lexer": "ipython3",
   "version": "3.9.12"
  }
 },
 "nbformat": 4,
 "nbformat_minor": 5
}
