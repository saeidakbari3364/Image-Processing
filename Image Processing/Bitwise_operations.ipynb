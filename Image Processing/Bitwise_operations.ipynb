{
 "cells": [
  {
   "cell_type": "code",
   "execution_count": 1,
   "id": "b2282e86",
   "metadata": {},
   "outputs": [],
   "source": [
    "#Bitwise_operations"
   ]
  },
  {
   "cell_type": "code",
   "execution_count": 11,
   "id": "5e0c463d",
   "metadata": {},
   "outputs": [],
   "source": [
    "import numpy as np\n",
    "import cv2"
   ]
  },
  {
   "cell_type": "code",
   "execution_count": 34,
   "id": "ebc25287",
   "metadata": {},
   "outputs": [],
   "source": [
    "rectangle=np.zeros((300,300),dtype='uint8')\n",
    "cv2.rectangle(rectangle,(50,50),(250,250),255,-1)\n",
    "\n",
    "cv2.imshow('image',rectangle)\n",
    "cv2.waitKey(0)\n",
    "cv2.destroyAllWindows()"
   ]
  },
  {
   "cell_type": "code",
   "execution_count": 33,
   "id": "515221c2",
   "metadata": {},
   "outputs": [],
   "source": [
    "circle=np.zeros((300,300),dtype='uint8')\n",
    "cv2.circle(circle,(150,150),50,(255,0,0),-1)\n",
    "\n",
    "cv2.imshow('image',circle)\n",
    "cv2.waitKey(0)\n",
    "cv2.destroyAllWindows()"
   ]
  },
  {
   "cell_type": "code",
   "execution_count": 9,
   "id": "32c0ef13",
   "metadata": {},
   "outputs": [],
   "source": [
    "#AND-or-not-xor"
   ]
  },
  {
   "cell_type": "code",
   "execution_count": 35,
   "id": "5693b03e",
   "metadata": {},
   "outputs": [],
   "source": [
    "img_and=cv2.bitwise_and(rectangle,circle)\n",
    "cv2.imshow('image',img_and)\n",
    "cv2.waitKey(0)\n",
    "cv2.destroyAllWindows()"
   ]
  },
  {
   "cell_type": "code",
   "execution_count": 36,
   "id": "3e8efc18",
   "metadata": {},
   "outputs": [],
   "source": [
    "img_or=cv2.bitwise_or(rectangle,circle)\n",
    "cv2.imshow('image',img_or)\n",
    "cv2.waitKey(0)\n",
    "cv2.destroyAllWindows()"
   ]
  },
  {
   "cell_type": "code",
   "execution_count": 40,
   "id": "fbd91213",
   "metadata": {},
   "outputs": [],
   "source": [
    "img_not=cv2.bitwise_not(rectangle,circle)\n",
    "cv2.imshow('image',img_not)\n",
    "cv2.waitKey(0)\n",
    "cv2.destroyAllWindows()"
   ]
  },
  {
   "cell_type": "code",
   "execution_count": 38,
   "id": "5f78bc55",
   "metadata": {},
   "outputs": [],
   "source": [
    "img_xor=cv2.bitwise_xor(rectangle,circle)\n",
    "cv2.imshow('image',img_xor)\n",
    "cv2.waitKey(0)\n",
    "cv2.destroyAllWindows()"
   ]
  },
  {
   "cell_type": "code",
   "execution_count": null,
   "id": "21bc1ec1",
   "metadata": {},
   "outputs": [],
   "source": []
  }
 ],
 "metadata": {
  "kernelspec": {
   "display_name": "Python 3 (ipykernel)",
   "language": "python",
   "name": "python3"
  },
  "language_info": {
   "codemirror_mode": {
    "name": "ipython",
    "version": 3
   },
   "file_extension": ".py",
   "mimetype": "text/x-python",
   "name": "python",
   "nbconvert_exporter": "python",
   "pygments_lexer": "ipython3",
   "version": "3.9.12"
  }
 },
 "nbformat": 4,
 "nbformat_minor": 5
}
