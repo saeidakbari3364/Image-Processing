{
 "cells": [
  {
   "cell_type": "code",
   "execution_count": 7,
   "id": "256867cd",
   "metadata": {},
   "outputs": [],
   "source": [
    "import numpy as np\n",
    "import cv2 as cv"
   ]
  },
  {
   "cell_type": "code",
   "execution_count": 8,
   "id": "25f94119",
   "metadata": {},
   "outputs": [],
   "source": [
    "img=cv.imread('./images/flamingo.jpg')"
   ]
  },
  {
   "cell_type": "code",
   "execution_count": 9,
   "id": "f8ab1c78",
   "metadata": {},
   "outputs": [
    {
     "name": "stdout",
     "output_type": "stream",
     "text": [
      "[[[ 79  85 120]\n",
      "  [ 85  91 128]\n",
      "  [ 86  89 134]\n",
      "  ...\n",
      "  [ 51  53  84]\n",
      "  [ 57  56  90]\n",
      "  [ 61  60  94]]\n",
      "\n",
      " [[ 43  51  81]\n",
      "  [ 49  56  89]\n",
      "  [ 49  54  93]\n",
      "  ...\n",
      "  [ 80  82 112]\n",
      "  [ 86  88 119]\n",
      "  [ 91  93 124]]\n",
      "\n",
      " [[ 38  49  71]\n",
      "  [ 47  57  81]\n",
      "  [ 52  61  88]\n",
      "  ...\n",
      "  [ 80  84 112]\n",
      "  [ 87  92 117]\n",
      "  [ 93  98 123]]\n",
      "\n",
      " ...\n",
      "\n",
      " [[ 41  89  60]\n",
      "  [ 30  80  50]\n",
      "  [ 16  68  38]\n",
      "  ...\n",
      "  [123 103  92]\n",
      "  [120 100  89]\n",
      "  [119  99  88]]\n",
      "\n",
      " [[ 47  95  66]\n",
      "  [ 39  89  59]\n",
      "  [ 26  78  48]\n",
      "  ...\n",
      "  [ 46  48  36]\n",
      "  [ 44  46  34]\n",
      "  [ 42  44  32]]\n",
      "\n",
      " [[ 49  97  68]\n",
      "  [ 44  94  64]\n",
      "  [ 34  86  56]\n",
      "  ...\n",
      "  [ 54  66  54]\n",
      "  [ 54  66  54]\n",
      "  [ 55  67  55]]]\n"
     ]
    }
   ],
   "source": [
    "print(img)"
   ]
  },
  {
   "cell_type": "code",
   "execution_count": 10,
   "id": "0268d43a",
   "metadata": {},
   "outputs": [
    {
     "data": {
      "text/plain": [
       "(280, 400, 3)"
      ]
     },
     "execution_count": 10,
     "metadata": {},
     "output_type": "execute_result"
    }
   ],
   "source": [
    "img.shape"
   ]
  },
  {
   "cell_type": "code",
   "execution_count": 12,
   "id": "6c32ef11",
   "metadata": {},
   "outputs": [],
   "source": [
    "cv.imshow('falmingo',img)\n",
    "cv.waitKey(10000)#milliseconds\n",
    "cv.destroyAllWindows()"
   ]
  },
  {
   "cell_type": "code",
   "execution_count": 15,
   "id": "3aa312fb",
   "metadata": {},
   "outputs": [],
   "source": [
    "cv.imshow('falmingo',img)\n",
    "cv.waitKey(0)#zero 0 key\n",
    "cv.destroyAllWindows()"
   ]
  },
  {
   "cell_type": "code",
   "execution_count": 14,
   "id": "0a186fcc",
   "metadata": {},
   "outputs": [],
   "source": [
    "#save an image"
   ]
  },
  {
   "cell_type": "code",
   "execution_count": 16,
   "id": "01b485d3",
   "metadata": {},
   "outputs": [
    {
     "data": {
      "text/plain": [
       "True"
      ]
     },
     "execution_count": 16,
     "metadata": {},
     "output_type": "execute_result"
    }
   ],
   "source": [
    "cv.imwrite('test.jpg',img)"
   ]
  },
  {
   "cell_type": "code",
   "execution_count": null,
   "id": "aecbf2cc",
   "metadata": {},
   "outputs": [],
   "source": []
  }
 ],
 "metadata": {
  "kernelspec": {
   "display_name": "Python 3 (ipykernel)",
   "language": "python",
   "name": "python3"
  },
  "language_info": {
   "codemirror_mode": {
    "name": "ipython",
    "version": 3
   },
   "file_extension": ".py",
   "mimetype": "text/x-python",
   "name": "python",
   "nbconvert_exporter": "python",
   "pygments_lexer": "ipython3",
   "version": "3.9.12"
  }
 },
 "nbformat": 4,
 "nbformat_minor": 5
}
