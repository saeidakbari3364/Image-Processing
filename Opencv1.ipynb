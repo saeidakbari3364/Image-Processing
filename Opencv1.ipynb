{
 "cells": [
  {
   "cell_type": "markdown",
   "id": "ce619695",
   "metadata": {},
   "source": [
    "# Introduction Opencv"
   ]
  },
  {
   "cell_type": "markdown",
   "id": "cc68c9df",
   "metadata": {},
   "source": [
    "# Use this commandto install Opencv\n",
    "\n",
    "pip install opencv-python\n",
    "\n",
    "Python -m pip install opencv-python "
   ]
  },
  {
   "cell_type": "code",
   "execution_count": 39,
   "id": "0ecc6c66",
   "metadata": {},
   "outputs": [],
   "source": [
    "import cv2\n"
   ]
  },
  {
   "cell_type": "markdown",
   "id": "9e10e34e",
   "metadata": {},
   "source": [
    "Load a image"
   ]
  },
  {
   "cell_type": "code",
   "execution_count": 40,
   "id": "872704df",
   "metadata": {},
   "outputs": [],
   "source": [
    "img=cv2.imread('lenna.png',0)"
   ]
  },
  {
   "cell_type": "markdown",
   "id": "9d190a5d",
   "metadata": {},
   "source": [
    "-1 = cv2.IMREAD_COLOR : loads a color image\n",
    "\n",
    "0 = cv2.IMREAD_GRAYSCALE : loads image in gary sclae mode\n",
    "\n",
    "1= cv2.IMREAD_UNCHANGED : load a image as such including alpha channel\n"
   ]
  },
  {
   "cell_type": "markdown",
   "id": "e1dbdc52",
   "metadata": {},
   "source": [
    "Display a image"
   ]
  },
  {
   "cell_type": "code",
   "execution_count": 41,
   "id": "a6bca7f6",
   "metadata": {},
   "outputs": [],
   "source": [
    "cv2.imshow('lenna image',img)\n",
    "cv2.waitKey(0)\n",
    "cv2.destroyAllWindows()"
   ]
  },
  {
   "cell_type": "markdown",
   "id": "ed69c65d",
   "metadata": {},
   "source": [
    "Resize a image"
   ]
  },
  {
   "cell_type": "code",
   "execution_count": 42,
   "id": "ee8ecf77",
   "metadata": {},
   "outputs": [],
   "source": [
    "#we can use with pixel\n",
    "img=cv2.resize(img,(400,400))\n",
    "#we can use by shrink for example to half by 0.5  or by 2 double the size of image\n",
    "img =cv2.resize(img,(0,0),fx=0.5 , fy=0.5)\n",
    "img =cv2.resize(img,(0,0),fx=2 , fy=2)"
   ]
  },
  {
   "cell_type": "markdown",
   "id": "72a898df",
   "metadata": {},
   "source": [
    "Rotate a image"
   ]
  },
  {
   "cell_type": "code",
   "execution_count": 44,
   "id": "729ba6c4",
   "metadata": {},
   "outputs": [],
   "source": [
    "img=cv2.rotate(img, cv2.ROTATE_180)\n"
   ]
  },
  {
   "cell_type": "code",
   "execution_count": 45,
   "id": "74bbe13f",
   "metadata": {},
   "outputs": [],
   "source": [
    "cv2.imshow('lenna image',img)\n",
    "cv2.waitKey(0)\n",
    "cv2.destroyAllWindows()"
   ]
  },
  {
   "cell_type": "markdown",
   "id": "9a5c3b60",
   "metadata": {},
   "source": [
    "Save a image"
   ]
  },
  {
   "cell_type": "code",
   "execution_count": 46,
   "id": "3526194a",
   "metadata": {},
   "outputs": [
    {
     "data": {
      "text/plain": [
       "True"
      ]
     },
     "execution_count": 46,
     "metadata": {},
     "output_type": "execute_result"
    }
   ],
   "source": [
    "cv2.imwrite(\"new_img.jpg\",img)"
   ]
  },
  {
   "cell_type": "code",
   "execution_count": null,
   "id": "9e0ce66f",
   "metadata": {},
   "outputs": [],
   "source": []
  }
 ],
 "metadata": {
  "kernelspec": {
   "display_name": "Python 3 (ipykernel)",
   "language": "python",
   "name": "python3"
  },
  "language_info": {
   "codemirror_mode": {
    "name": "ipython",
    "version": 3
   },
   "file_extension": ".py",
   "mimetype": "text/x-python",
   "name": "python",
   "nbconvert_exporter": "python",
   "pygments_lexer": "ipython3",
   "version": "3.9.12"
  }
 },
 "nbformat": 4,
 "nbformat_minor": 5
}
