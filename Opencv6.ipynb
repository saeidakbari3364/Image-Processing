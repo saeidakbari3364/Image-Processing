{
 "cells": [
  {
   "cell_type": "markdown",
   "id": "466dea1d",
   "metadata": {},
   "source": [
    "# Colors and Color Detection"
   ]
  },
  {
   "cell_type": "code",
   "execution_count": 18,
   "id": "e2f278b9",
   "metadata": {},
   "outputs": [],
   "source": [
    "import numpy as np\n",
    "import cv2"
   ]
  },
  {
   "cell_type": "code",
   "execution_count": 19,
   "id": "75873059",
   "metadata": {},
   "outputs": [],
   "source": [
    "cap=cv2.VideoCapture(0)"
   ]
  },
  {
   "cell_type": "code",
   "execution_count": 20,
   "id": "ae2f6a7a",
   "metadata": {},
   "outputs": [],
   "source": [
    "while True:\n",
    "    ret,frame=cap.read()\n",
    "    width = int(cap.get(3))# 3 GET WIDTH PROPERTY\n",
    "    height = int(cap.get(4))# 4 GET HIGHT PROPERTY\n",
    "    \n",
    "    #Convert this Frame to HSV Colors Scheme(BGR or RGB)--->HSV(Hue Saturation and Lightness and Brightness)\n",
    "    hsv=cv2.cvtColor(frame, cv2.COLOR_BGR2HSV)\n",
    "    \n",
    "    lower_blue=np.array([90,50,50])    \n",
    "    upper_blue=np.array([130,255,255])\n",
    "    \n",
    "    #Create A mask\n",
    "    mask=cv2.inRange(hsv,lower_blue,upper_blue)\n",
    "    \n",
    "    result=cv2.bitwise_and(frame,frame,mask=mask)\n",
    "    \n",
    "       \n",
    "    cv2.imshow(\"frame\",result)\n",
    "    \n",
    "    if cv2.waitKey(1)==ord('q'):\n",
    "        break\n",
    "\n",
    "cap.release()\n",
    "cv2.destroyAllWindows()"
   ]
  }
 ],
 "metadata": {
  "kernelspec": {
   "display_name": "Python 3 (ipykernel)",
   "language": "python",
   "name": "python3"
  },
  "language_info": {
   "codemirror_mode": {
    "name": "ipython",
    "version": 3
   },
   "file_extension": ".py",
   "mimetype": "text/x-python",
   "name": "python",
   "nbconvert_exporter": "python",
   "pygments_lexer": "ipython3",
   "version": "3.9.12"
  }
 },
 "nbformat": 4,
 "nbformat_minor": 5
}
